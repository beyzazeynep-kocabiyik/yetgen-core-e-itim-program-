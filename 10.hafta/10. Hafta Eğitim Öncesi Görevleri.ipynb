{
 "cells": [
  {
   "attachments": {},
   "cell_type": "markdown",
   "metadata": {},
   "source": [
    "# Problem 1"
   ]
  },
  {
   "cell_type": "code",
   "execution_count": null,
   "metadata": {},
   "outputs": [],
   "source": [
    "# 1 - numpy kütüphanesini import edin\n",
    "import numpy as np\n",
    "\n",
    "# 2 - 0 ile 10 arasında 5 sayıdan oluşan matris üretin\n",
    "matrix = np.random.randint(0, 10, 5)\n",
    "\n",
    "# 3 - matris'in boyutunu öğrenin\n",
    "print(\"Matrisin boyutu:\", matrix.shape)\n",
    "\n",
    "# 4 - matris'i yeniden boyutlandırın (örneğin, 1x5)\n",
    "matrix_reshaped = matrix.reshape(1, 5)\n",
    "print(\"Yeniden boyutlandırılmış matris:\\n\", matrix_reshaped)\n",
    "\n",
    "# 5 - matris'in boyut sayısını öğrenin\n",
    "print(\"Matrisin boyut sayısı:\", matrix.ndim)"
   ]
  },
  {
   "attachments": {},
   "cell_type": "markdown",
   "metadata": {},
   "source": [
    "# Problem 2"
   ]
  },
  {
   "cell_type": "code",
   "execution_count": null,
   "metadata": {},
   "outputs": [],
   "source": [
    "import numpy as np\n",
    "\n",
    "# 1 - 0 ile 10 arasında bulunan tek sayılardan oluşan matris üretin\n",
    "odd_numbers = np.arange(1, 11, 2) \n",
    "\n",
    "# 2 - Oluşturduğunuz matrisi parçalayın (örneğin, iki parçaya)\n",
    "split_index = len(odd_numbers) // 2\n",
    "part1 = odd_numbers[:split_index]\n",
    "part2 = odd_numbers[split_index:]\n",
    "print(\"Part 1:\", part1)\n",
    "print(\"Part 2:\", part2)\n",
    "\n",
    "# 3 - Parçalanmış matrisleri birleştirin\n",
    "merged_array = np.concatenate((part1, part2))\n",
    "print(\"Merged Array:\", merged_array)"
   ]
  },
  {
   "attachments": {},
   "cell_type": "markdown",
   "metadata": {},
   "source": [
    "# Problem 3"
   ]
  },
  {
   "cell_type": "code",
   "execution_count": null,
   "metadata": {},
   "outputs": [],
   "source": [
    "import numpy as np\n",
    "\n",
    "# 1 - 5 ile 100 arasında ikişer ikişer atlayarak rastgele 10 sayıdan oluşan matris üretin\n",
    "matrix = np.random.choice(np.arange(5, 101, 2), size=10, replace=False)\n",
    "\n",
    "# 2 - matris'in özelliklerini inceleyin\n",
    "print(\"Matris:\", matrix)\n",
    "print(\"Boyut:\", matrix.shape)\n",
    "print(\"Boyut sayısı:\", matrix.ndim)\n",
    "print(\"Veri tipi:\", matrix.dtype)\n",
    "print(\"Toplam:\", np.sum(matrix))\n",
    "print(\"Ortalama:\", np.mean(matrix))\n",
    "print(\"Standart sapma:\", np.std(matrix))\n",
    "print(\"Minimum değer:\", np.min(matrix))\n",
    "print(\"Maksimum değer:\", np.max(matrix))"
   ]
  }
 ],
 "metadata": {
  "kernelspec": {
   "display_name": "Python 3",
   "language": "python",
   "name": "python3"
  },
  "language_info": {
   "name": "python",
   "version": "3.10.5 (tags/v3.10.5:f377153, Jun  6 2022, 16:14:13) [MSC v.1929 64 bit (AMD64)]"
  },
  "orig_nbformat": 4,
  "vscode": {
   "interpreter": {
    "hash": "5026d2d6e7aaaaba093def813beadff083d8733e4a511af01735cbabd156995d"
   }
  }
 },
 "nbformat": 4,
 "nbformat_minor": 2
}
